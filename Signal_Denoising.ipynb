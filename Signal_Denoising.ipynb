{
  "nbformat": 4,
  "nbformat_minor": 0,
  "metadata": {
    "colab": {
      "provenance": [],
      "include_colab_link": true
    },
    "kernelspec": {
      "name": "python3",
      "display_name": "Python 3"
    },
    "language_info": {
      "name": "python"
    }
  },
  "cells": [
    {
      "cell_type": "markdown",
      "metadata": {
        "id": "view-in-github",
        "colab_type": "text"
      },
      "source": [
        "<a href=\"https://colab.research.google.com/github/raphaelPinheiro26/Processamento-de-Sianis-e-Imagens-Biom-dicas/blob/main/Signal_Denoising.ipynb\" target=\"_parent\"><img src=\"https://colab.research.google.com/assets/colab-badge.svg\" alt=\"Open In Colab\"/></a>"
      ]
    },
    {
      "cell_type": "markdown",
      "source": [
        "Processamento de Sinais e Imagens Biomédicas (Sistemas Biomédicos)\n",
        "\n",
        "\n",
        "Instruções:\n",
        "\n",
        "\n",
        "\n",
        "*   Leia com atenção toda a parte introdutória, pois fará diferença para esta e demais listas!\n",
        "*   Deve-se colocar comentários nos códigos desenvolvidos.\n",
        "*   As perguntas devem ser respondidas também como comentários no arquivo.\n",
        "*   Colocar seu nome e número da matricula abaixo.\n",
        "*   Quaisquer problemas na execução das listas, entrar em contato com o professor.\n",
        "*   Depois de terminados os exercícios, deve ser gerado um arquivo extensão .ipynb para ser enviado ao professor pelo TEAMS da disciplina até a data máxima de entrega.\n",
        "*   Caso não seja enviado - ou identifique-se cópia - o aluno ficará sem nota.\n",
        "\n",
        "\n",
        "\n",
        "---\n",
        "\n",
        "\n",
        "\n",
        "\n",
        "\n",
        "\n",
        "\n",
        "\n",
        "\n",
        "\n",
        "\n",
        "\n",
        "\n",
        "\n",
        "\n",
        "\n",
        "\n",
        "\n"
      ],
      "metadata": {
        "id": "dREjFUxMe7ko"
      }
    },
    {
      "cell_type": "markdown",
      "source": [
        "`Nome: `\n",
        "\n",
        "`Número FATEC: `\n",
        "\n",
        "`e-mail: `"
      ],
      "metadata": {
        "id": "GdrXgUTygdlM"
      }
    },
    {
      "cell_type": "markdown",
      "source": [
        "## 🧱 1. O que é Padding?\n",
        "\n",
        "**Padding** significa \"preenchimento\" — ele adiciona valores (geralmente zeros) nas bordas do vetor (1D) ou da matriz (2D), para permitir que o **kernel** (filtro) possa ser aplicado mesmo nas extremidades.\n",
        "\n",
        "### 🎯 Por que é necessário?\n",
        "\n",
        "Sem padding, o kernel só pode operar em regiões \"centrais\", e a saída teria tamanho menor que a entrada.\n",
        "\n",
        "### 📦 Tipos de Padding:\n",
        "\n",
        "| Tipo                   | Explicação breve                  | Exemplo com vetor `[a, b, c]` e kernel 3x1 |\n",
        "| ---------------------- | --------------------------------- | ------------------------------------------ |\n",
        "| **Zero**               | Adiciona zeros nas bordas         | `[0, a, b, c, 0]`                          |\n",
        "| **Replicate**          | Repete a borda mais próxima       | `[a, a, b, c, c]`                          |\n",
        "| **Reflect**            | Reflete os valores da borda       | `[b, a, b, c, b]`                          |\n",
        "| **No padding (valid)** | Não aplica padding, saída é menor | `[a, b, c]` → resultado só com centro      |\n",
        "\n",
        "---\n",
        "\n",
        "## 🔁 2. Como o Kernel Percorre o Vetor ou Matriz?\n",
        "\n",
        "O **kernel** (também chamado de *janela* ou *filtro*) percorre a entrada **posição por posição**, multiplicando seus próprios valores pelos valores locais da entrada e somando o resultado.\n",
        "\n",
        "### Exemplo 1D:\n",
        "\n",
        "```text\n",
        "Sinal:     [1, 2, 3, 4, 5]\n",
        "Kernel:         [1, 0, -1]  (tipo \"derivada\")\n",
        "\n",
        "Passo 1: (0*1 + 1*2 + -1*3) = -1\n",
        "Passo 2: (1*2 + 0*3 + -1*4) = -2\n",
        "...\n",
        "```\n",
        "\n",
        "### Exemplo 2D:\n",
        "\n",
        "O kernel desliza sobre a matriz linha por linha e coluna por coluna, como um quadrado que \"enxerga\" parte da imagem por vez.\n",
        "\n",
        "---\n",
        "\n",
        "## ⚙️ 3. O que é \"Convolução do Zero\" (sem Black-Box)?\n",
        "\n",
        "É fazer a convolução **manualmente**, usando apenas código básico como `for`, `if`, e `+`, sem usar funções prontas de bibliotecas como `numpy.convolve` ou `scipy.ndimage.convolve`.\n",
        "\n",
        "---\n",
        "\n",
        "## 🔄 4. Tipos de Convolução\n",
        "\n",
        "| Tipo                                       | Descrição                                                                                    |\n",
        "| ------------------------------------------ | -------------------------------------------------------------------------------------------- |\n",
        "| **Convolução Válida (`valid`)**            | Sem padding. Só calcula onde o kernel cabe completamente. Saída menor.                       |\n",
        "| **Convolução Cheia (`full`)**              | Aplica o kernel em todos os lugares possíveis. Saída maior.                                  |\n",
        "| **Convolução Mesma (`same`)**              | Aplica padding para que a saída tenha o mesmo tamanho da entrada.                            |\n",
        "| **Cross-correlation** (correlação cruzada) | Igual à convolução, mas **sem inverter o kernel** (alguns frameworks fazem isso por padrão). |\n",
        "\n",
        "---\n"
      ],
      "metadata": {
        "id": "rndqUYIJeDCq"
      }
    },
    {
      "cell_type": "markdown",
      "source": [
        "#1 - Código de convolução 1D (vetores) sem bibliotecas externas"
      ],
      "metadata": {
        "id": "hx3U-EPJcl_A"
      }
    },
    {
      "cell_type": "code",
      "source": [
        "# ---------- Função de Convolução 1D ----------\n"
      ],
      "metadata": {
        "id": "xRstcFcvcpQP"
      },
      "execution_count": null,
      "outputs": []
    },
    {
      "cell_type": "markdown",
      "source": [
        "##Exemplo de convolução de Sinais"
      ],
      "metadata": {
        "id": "EhqEgTXxc2hi"
      }
    },
    {
      "cell_type": "code",
      "source": [
        "# ---------- Teste 1D ----------\n"
      ],
      "metadata": {
        "id": "FMV7jAbrdA5x"
      },
      "execution_count": null,
      "outputs": []
    },
    {
      "cell_type": "markdown",
      "source": [
        "#2 - Código de convolução 2D (Matrizes) sem bibliotecas externas"
      ],
      "metadata": {
        "id": "9ARDv5YudLF5"
      }
    },
    {
      "cell_type": "code",
      "source": [
        "# ---------- Convolução 2D (imagem) ----------\n"
      ],
      "metadata": {
        "id": "YWOIFfbWdSC-"
      },
      "execution_count": null,
      "outputs": []
    },
    {
      "cell_type": "markdown",
      "source": [
        "##Exemplo de convolução de Imagens"
      ],
      "metadata": {
        "id": "4sSFqACgdaEh"
      }
    },
    {
      "cell_type": "code",
      "source": [
        "# ---------- Teste 2D ----------\n"
      ],
      "metadata": {
        "id": "III9AQC3dY3H"
      },
      "execution_count": null,
      "outputs": []
    },
    {
      "cell_type": "markdown",
      "source": [
        "#3 - Gerando sinais com ruído"
      ],
      "metadata": {
        "id": "CkP_aIeYiL_w"
      }
    },
    {
      "cell_type": "code",
      "source": [
        "# ---------- sinais com ruidos ----------\n",
        "\n"
      ],
      "metadata": {
        "id": "J3RfoyqQe_ag"
      },
      "execution_count": null,
      "outputs": []
    },
    {
      "cell_type": "markdown",
      "source": [
        "## 🧮 4 - Filtro da Média Móvel\n",
        "\n",
        "O **filtro da média móvel** é um dos métodos mais simples e populares para **suavizar sinais ruidosos**. Ele funciona calculando a **média de um grupo de valores vizinhos** do sinal original e atribuindo esse valor ao ponto central.\n",
        "\n",
        "---\n",
        "\n",
        "### ⚙️ Como Funciona:\n",
        "\n",
        "* Escolhe-se um **tamanho de janela (kernel)**, como 3, 5, 7 etc.\n",
        "* Para cada ponto do sinal:\n",
        "\n",
        "  * Olha-se os valores ao redor dele (por exemplo, 1 antes, ele mesmo, e 1 depois para kernel = 3).\n",
        "  * Calcula-se a **média aritmética** desses valores.\n",
        "  * O valor do sinal naquele ponto é substituído pela média.\n",
        "\n",
        "---\n",
        "\n",
        "### 🧊 Exemplo com vetor 1D:\n",
        "\n",
        "Suponha o sinal:\n",
        "\n",
        "```plaintext\n",
        "[3, 8, 6, 5, 2]\n",
        "```\n",
        "\n",
        "Com `kernel = 3`, o filtro calcula:\n",
        "\n",
        "```plaintext\n",
        "(3 + 8 + 6)/3 → 5.67\n",
        "(8 + 6 + 5)/3 → 6.33\n",
        "(6 + 5 + 2)/3 → 4.33\n",
        "```\n",
        "\n",
        "A saída suavizada seria (desconsiderando bordas):\n",
        "\n",
        "```plaintext\n",
        "[5.67, 6.33, 4.33]\n",
        "```\n",
        "\n",
        "---\n",
        "\n",
        "### 📦 Vantagens:\n",
        "\n",
        "* Fácil de implementar.\n",
        "* Reduz ruído de alta frequência.\n",
        "\n",
        "### ⚠️ Limitações:\n",
        "\n",
        "* Pode **atrasar** o sinal (delay).\n",
        "* Suaviza **também os picos reais**, não só o ruído.\n",
        "\n",
        "---\n"
      ],
      "metadata": {
        "id": "ly0Vd8D1gV6j"
      }
    },
    {
      "cell_type": "code",
      "source": [
        "# ---------- Filtro de Média Móvel ----------\n"
      ],
      "metadata": {
        "id": "VTfv7R5Vf_8J"
      },
      "execution_count": null,
      "outputs": []
    },
    {
      "cell_type": "markdown",
      "source": [
        "## 🧮 5- Filtro de Média Gaussiana\n",
        "\n",
        "O **filtro de média gaussiana** é um método de suavização que utiliza uma distribuição gaussiana para calcular a **média ponderada** dos valores vizinhos de cada ponto do sinal. Ele é eficaz na redução de **ruídos de alta frequência**, preservando as características principais do sinal.\n",
        "\n",
        "---\n",
        "\n",
        "### ⚙️ Como Funciona:\n",
        "\n",
        "* Escolhe-se um **tamanho de janela (kernel)** e um **desvio padrão (sigma)** para a distribuição gaussiana.\n",
        "* Para cada ponto do sinal:\n",
        "\n",
        "  * Olha-se os valores ao redor dele (ex: para um kernel de 5 pontos, considera-se os dois pontos antes, o ponto atual e os dois pontos depois).\n",
        "  * Calcula-se a **média ponderada** desses valores, usando a **distribuição gaussiana** para atribuir pesos maiores aos valores mais próximos ao ponto central.\n",
        "  * O valor do sinal naquele ponto é substituído pela média ponderada.\n",
        "\n",
        "---\n",
        "\n",
        "### 🧊 Exemplo com vetor 1D:\n",
        "\n",
        "Suponha o sinal:\n",
        "\n",
        "```plaintext\n",
        "[3, 8, 6, 5, 2]\n",
        "```\n",
        "\n",
        "E um **kernel gaussiano** com desvio padrão $\\sigma = 1$, o filtro pode ser calculado da seguinte maneira:\n",
        "\n",
        "1. **Distribuição Gaussiana** para um kernel de tamanho 5:\n",
        "\n",
        "   $$\n",
        "   G(x) = \\left[ \\frac{1}{\\sqrt{2\\pi}} e^{-\\frac{x^2}{2}} \\right]\n",
        "   $$\n",
        "\n",
        "2. **Pesos** aplicados aos pontos ao redor de cada valor (valores mais próximos têm maior peso):\n",
        "\n",
        "   | Ponto | Peso (kernel) |\n",
        "   | ----- | ------------- |\n",
        "   | 3     | 0.04          |\n",
        "   | 8     | 0.14          |\n",
        "   | 6     | 0.24          |\n",
        "   | 5     | 0.14          |\n",
        "   | 2     | 0.04          |\n",
        "\n",
        "3. Para o ponto 6, por exemplo, a média ponderada será:\n",
        "\n",
        "   $$\n",
        "   \\text{Novo valor} = (3 \\cdot 0.04) + (8 \\cdot 0.14) + (6 \\cdot 0.24) + (5 \\cdot 0.14) + (2 \\cdot 0.04)\n",
        "   $$\n",
        "\n",
        "A saída seria um sinal suavizado, com os valores do centro mais suavizados do que os das bordas.\n",
        "\n",
        "---\n",
        "\n",
        "### 📦 Vantagens:\n",
        "\n",
        "* **Reduz o ruído** sem suavizar excessivamente os detalhes importantes do sinal.\n",
        "* **Preserva bordas e transições**, ao contrário de métodos de média simples.\n",
        "* Pode ser ajustado com o parâmetro $\\sigma$ para controlar a suavização.\n",
        "\n",
        "### ⚠️ Limitações:\n",
        "\n",
        "* O filtro **atenua detalhes** de alta frequência, o que pode afetar sinais de alta precisão.\n",
        "* Requer mais **cálculos** do que a média simples, devido ao uso de uma função gaussiana.\n",
        "\n"
      ],
      "metadata": {
        "id": "3YUPsANzjYRs"
      }
    },
    {
      "cell_type": "code",
      "source": [
        "# ---------- Filtro Gaussiano ----------\n"
      ],
      "metadata": {
        "id": "JssMpn5bi3DK"
      },
      "execution_count": null,
      "outputs": []
    },
    {
      "cell_type": "markdown",
      "source": [
        "## 🧮 6 - Filtro de Mediana\n",
        "\n",
        "O **filtro de mediana** é um filtro não linear amplamente utilizado para **eliminar ruídos impulsivos** (outliers) em sinais. Ele funciona substituindo cada ponto do sinal pela **mediana** dos valores em torno dele, dentro de uma janela (kernel) definida. Isso o torna particularmente eficaz em eliminar picos ou ruídos abruptos sem suavizar tanto as bordas do sinal.\n",
        "\n",
        "---\n",
        "\n",
        "### ⚙️ Como Funciona:\n",
        "\n",
        "* Escolhe-se um **tamanho de janela (kernel)**, como 3, 5, 7, etc.\n",
        "* Para cada ponto do sinal:\n",
        "\n",
        "  * Olha-se os valores ao redor dele (por exemplo, 1 antes, ele mesmo, e 1 depois para kernel = 3).\n",
        "  * Calcula-se a **mediana** desses valores.\n",
        "  * O valor do sinal naquele ponto é substituído pela mediana calculada.\n",
        "\n",
        "---\n",
        "\n",
        "### 🧊 Exemplo com vetor 1D:\n",
        "\n",
        "Suponha o sinal:\n",
        "\n",
        "```plaintext\n",
        "[3, 8, 6, 5, 2]\n",
        "```\n",
        "\n",
        "Com `kernel = 3`, o filtro calcula a mediana para cada janela:\n",
        "\n",
        "* Para a janela `[3, 8, 6]`, a mediana é `6`.\n",
        "* Para a janela `[8, 6, 5]`, a mediana é `6`.\n",
        "* Para a janela `[6, 5, 2]`, a mediana é `5`.\n",
        "\n",
        "A saída suavizada seria:\n",
        "\n",
        "```plaintext\n",
        "[6, 6, 5]\n",
        "```\n",
        "\n",
        "---\n",
        "\n",
        "### 📦 Vantagens:\n",
        "\n",
        "* Eficaz na **remoção de ruídos impulsivos** (outliers).\n",
        "* Mantém melhor as **bordas** do sinal, comparado com filtros lineares como a média.\n",
        "* Não suaviza excessivamente o sinal, preservando características importantes.\n",
        "\n",
        "### ⚠️ Limitações:\n",
        "\n",
        "* Pode **atrasar** o sinal (delay), especialmente com kernels grandes.\n",
        "* Pode **distorcer** o sinal em regiões de transição rápida, dependendo do tamanho da janela.\n",
        "\n",
        "---\n"
      ],
      "metadata": {
        "id": "GMx1DgRjmygj"
      }
    },
    {
      "cell_type": "code",
      "source": [
        "# ---------- Função de Filtro de Mediana 1D ----------\n"
      ],
      "metadata": {
        "id": "Nl35kmfomLn0"
      },
      "execution_count": null,
      "outputs": []
    },
    {
      "cell_type": "markdown",
      "source": [
        "# 7 -  TIPOS DE RUÍDOS COMUNS EM SINAIS BIOMÉDICOS\n",
        "\n",
        "### 1. 🌀 **Ruído Térmico (white noise)**\n",
        "\n",
        "* **Origem**: Agitação térmica dos elétrons nos componentes eletrônicos.\n",
        "* **Características**:\n",
        "\n",
        "  * Alta frequência.\n",
        "  * Distribuição gaussiana.\n",
        "  * Afeta praticamente todos os sensores.\n",
        "* **Filtros eficazes**:\n",
        "\n",
        "  * ✅ **Média móvel**: suaviza bem.\n",
        "  * ✅ **Média gaussiana**: suaviza mantendo mais a forma do sinal.\n",
        "  * ⚠️ Mediana: pode ajudar, mas não é o ideal para esse tipo.\n",
        "\n",
        "---\n",
        "\n",
        "### 2.  **Wander de linha de base**\n",
        "\n",
        "* **Origem**: Movimento do paciente, respiração, deriva do eletrodo.\n",
        "* **Características**:\n",
        "\n",
        "  * Frequência muito baixa (geralmente < 0.5 Hz).\n",
        "  * Parece um *“balanço lento”* da linha de base do sinal.\n",
        "* **Filtros eficazes**:\n",
        "\n",
        "  * ✅ **Média móvel com janela longa**: remove tendência lenta.\n",
        "  * ✅ **Média gaussiana com σ grande**.\n",
        "  * ❌ Mediana não é eficaz aqui.\n",
        "\n",
        "---\n",
        "\n",
        "### 3. ⚡ **Ruído espúrio/saltos abruptos (spikes, impulsos)**\n",
        "\n",
        "* **Origem**: interferência eletromagnética, contato intermitente.\n",
        "* **Características**:\n",
        "\n",
        "  * Duração muito curta.\n",
        "  * Valor atípico (outlier).\n",
        "* **Filtros eficazes**:\n",
        "\n",
        "  * ✅ **Filtro da mediana**: excelente para eliminar esses picos.\n",
        "  * ❌ Média móvel e gaussiana **são sensíveis a outliers** e não eliminam bem esses artefatos.\n",
        "\n",
        "---\n",
        "\n",
        "### 4. 💪 **Ruído muscular (EMG residual em ECG/EEG)**\n",
        "\n",
        "* **Origem**: Atividade elétrica dos músculos próximos.\n",
        "* **Características**:\n",
        "\n",
        "  * Frequência alta.\n",
        "  * Aparência \"trêmula\", rápida.\n",
        "* **Filtros eficazes**:\n",
        "\n",
        "  * ✅ **Média móvel ou gaussiana com janela curta**: suavizam.\n",
        "  * ⚠️ Mediana: ajuda um pouco, mas menos eficaz que os filtros suavizantes.\n",
        "\n",
        "\n",
        "---\n",
        "\n",
        "### 5. ⚡ Ruído de Rede Elétrica (Power Line Interference)\n",
        "\n",
        "#### 🧠 Onde aparece:\n",
        "\n",
        "* Sinais como **ECG, EEG, EMG etc** captam esse ruído com facilidade.\n",
        "* Qualquer sistema com eletrodos, cabos longos ou blindagem deficiente pode ser afetado.\n",
        "\n",
        "\n",
        "\n",
        "#### 🌐 Origem:\n",
        "\n",
        "* Em ambientes com equipamentos eletrônicos, iluminação fluorescente, carregadores, motores, etc.\n",
        "* O corpo humano funciona como uma **antena**, captando essa interferência da rede elétrica.\n",
        "\n",
        "\n",
        "\n",
        "#### 📈 Características:\n",
        "\n",
        "* Frequência **fixa**:\n",
        "\n",
        "  * **60 Hz** (Brasil, EUA)\n",
        "  * **50 Hz** (Europa, Ásia)\n",
        "* Pode ter **harmônicos**: 120 Hz, 180 Hz etc., dependendo do ambiente.\n",
        "* Aparece como **uma onda senoidal persistente** sobre o sinal.\n",
        "\n",
        "\n",
        "\n",
        "#### 🔍 Visualmente:\n",
        "\n",
        "* Em um ECG, por exemplo, ele aparece como uma **ondulação suave e constante** em torno da linha de base.\n",
        "\n",
        "---\n",
        "\n",
        "\n"
      ],
      "metadata": {
        "id": "r9upv2xlswhw"
      }
    },
    {
      "cell_type": "markdown",
      "source": [
        "## Exemplos de Ruídos"
      ],
      "metadata": {
        "id": "wn6Atgn0yi8V"
      }
    },
    {
      "cell_type": "code",
      "source": [
        "# ---------- Exemplos de Ruídos ----------\n",
        "\n",
        "\n"
      ],
      "metadata": {
        "id": "Hy_Q-bbvwit3"
      },
      "execution_count": null,
      "outputs": []
    },
    {
      "cell_type": "markdown",
      "source": [
        "## Aplicações dos Filtros"
      ],
      "metadata": {
        "id": "p8VHWKNNyI8U"
      }
    },
    {
      "cell_type": "code",
      "source": [
        "# ---------- Aplicação dos Filtros ----------\n"
      ],
      "metadata": {
        "id": "AUTiQqYZx87R"
      },
      "execution_count": null,
      "outputs": []
    },
    {
      "cell_type": "markdown",
      "source": [
        "# 8 - Trabalhando com Sinais Reais\n",
        "\n"
      ],
      "metadata": {
        "id": "A9v508UF7Psz"
      }
    },
    {
      "cell_type": "markdown",
      "source": [
        "### 🏥 **PhysioNet**\n",
        "\n",
        "**[PhysioNet](https://physionet.org/)** é uma plataforma pública e gratuita mantida por instituições acadêmicas, incluindo o MIT e o Beth Israel Deaconess Medical Center.\n",
        "Ela fornece **bancos de dados reais de sinais biomédicos**, como:\n",
        "\n",
        "* ECG (eletrocardiograma)\n",
        "* EEG (eletroencefalograma)\n",
        "* Pletismografia\n",
        "* Pressão arterial\n",
        "* Respiração\n",
        "* E muito mais\n",
        "\n",
        "Os dados vêm de **pacientes reais** e são amplamente utilizados para ensino, pesquisa e validação de algoritmos em áreas como **engenharia biomédica**, **medicina**, **machine learning** e **processamento de sinais**.\n",
        "\n",
        "---\n",
        "\n",
        "### 📦 **Biblioteca `wfdb` (WaveForm DataBase)**\n",
        "\n",
        "A biblioteca **`wfdb`** em Python permite acessar, ler, visualizar e processar os sinais do PhysioNet de forma simples.\n",
        "\n",
        "Com ela, você pode:\n",
        "\n",
        "* **Ler sinais** diretamente dos arquivos `.dat` e `.hea`\n",
        "* **Visualizar sinais** com `matplotlib`\n",
        "* Acessar **anotações clínicas** (`.atr`) se disponíveis\n",
        "* Aplicar filtros e análises básicas\n",
        "\n",
        "É uma ponte entre os **dados clínicos** e a análise computacional em Python.\n",
        "\n",
        "---\n",
        "\n",
        "###  **Banco de Dados: MIT-BIH Arrhythmia Database**\n",
        "\n",
        "Este é o banco que estamos usando no exemplo. Ele é um dos **mais clássicos** e foi desenvolvido nos anos 80 pelo MIT. Suas características:\n",
        "\n",
        "* Registros de ECG com **30 minutos de duração**\n",
        "* Gravados de **47 pacientes com arritmias cardíacas**\n",
        "* **Dois canais simultâneos** de ECG (ex: MLII e V1)\n",
        "* Taxa de amostragem: **360 Hz**\n",
        "* Inclui anotações de especialistas sobre os **batimentos cardíacos normais e anormais**\n",
        "\n",
        "É uma base **altamente utilizada em pesquisas** para detecção de arritmias, treinamento de redes neurais, análise de frequência cardíaca e muito mais.\n",
        "\n"
      ],
      "metadata": {
        "id": "AkjDkTCq-n7X"
      }
    },
    {
      "cell_type": "markdown",
      "source": [
        "## 🧪 **Tutorial: Processamento de sinais biomédicos reais com Python ( PhysioNet)**\n",
        "\n",
        "---\n",
        "\n",
        "### 🔧 Passo 1 – Instalar o pacote `wfdb`\n",
        "\n"
      ],
      "metadata": {
        "id": "AjFCeD4W7X4R"
      }
    },
    {
      "cell_type": "code",
      "source": [
        "!pip install wfdb"
      ],
      "metadata": {
        "id": "GUeASlFS7mgE"
      },
      "execution_count": null,
      "outputs": []
    },
    {
      "cell_type": "markdown",
      "source": [
        "\n",
        "### 📁 Passo 2 – Baixar um registro (ex: 100) diretamente do PhysioNet\n",
        "\n",
        "> 🔎 Esses dois arquivos (`.dat` e `.hea`) são suficientes para carregar o sinal. O arquivo `.atr` é opcional (anotações).\n",
        "\n",
        "\n"
      ],
      "metadata": {
        "id": "afdqhDFr7qe0"
      }
    },
    {
      "cell_type": "code",
      "source": [
        "# Baixar apenas os arquivos necessários\n",
        "!wget -P mitdb https://physionet.org/files/mitdb/1.0.0/100.dat\n",
        "!wget -P mitdb https://physionet.org/files/mitdb/1.0.0/100.hea\n"
      ],
      "metadata": {
        "id": "SufWyv7c76sS"
      },
      "execution_count": null,
      "outputs": []
    },
    {
      "cell_type": "markdown",
      "source": [
        "### 🧬 Passo 3 – Carregar o sinal com o `wfdb`\n",
        "\n"
      ],
      "metadata": {
        "id": "U5sasdcC7-Ei"
      }
    },
    {
      "cell_type": "code",
      "source": [
        "import wfdb\n",
        "\n",
        "# Carregar o registro 100 (de dentro da pasta mitdb)\n",
        "record = wfdb.rdrecord('mitdb/100')\n",
        "\n",
        "# Ver atributos básicos\n",
        "print(\"Frequência de amostragem:\", record.fs)\n",
        "print(\"Duração (s):\", record.sig_len / record.fs)\n",
        "print(\"Canais disponíveis:\", record.sig_name)"
      ],
      "metadata": {
        "id": "QDt4Bur88JHM"
      },
      "execution_count": null,
      "outputs": []
    },
    {
      "cell_type": "markdown",
      "source": [
        "### 📈 Passo 4 – Exibir um trecho do sinal (ex: 3 segundos do canal MLII)\n",
        "\n",
        "\n"
      ],
      "metadata": {
        "id": "SIyZHjU38JgB"
      }
    },
    {
      "cell_type": "code",
      "source": [
        "import matplotlib.pyplot as plt\n",
        "\n",
        "# Selecionar o primeiro canal (MLII)\n",
        "sinal = record.p_signal[:, 0]\n",
        "\n",
        "# Selecionar 3 segundos\n",
        "fs = int(record.fs)\n",
        "trecho = sinal[:3 * fs]\n",
        "\n",
        "# Plotar\n",
        "plt.figure(figsize=(12, 4))\n",
        "plt.plot(trecho)\n",
        "plt.title(\"Trecho de 3 segundos do sinal (canal MLII)\")\n",
        "plt.xlabel(\"Amostras\")\n",
        "plt.ylabel(\"Amplitude (mV)\")\n",
        "plt.grid(True)\n",
        "plt.show()"
      ],
      "metadata": {
        "id": "gfCjXhby8orN"
      },
      "execution_count": null,
      "outputs": []
    },
    {
      "cell_type": "markdown",
      "source": [
        "### 📌 Exemplo utilizando o canal 0 :"
      ],
      "metadata": {
        "id": "pgSvZlTL9vID"
      }
    },
    {
      "cell_type": "code",
      "source": [
        "import matplotlib.pyplot as plt\n",
        "\n",
        "# Pegando apenas o canal 0 (por ex: MLII)\n",
        "sinal = record.p_signal[:,0]\n",
        "\n",
        "# Exibindo os primeiros 1000 samples (~3 segundos)\n",
        "plt.figure(figsize=(12,4))\n",
        "plt.plot(sinal[:1000])\n",
        "plt.title(\"Trecho do sinal do registro 100 (canal MLII)\")\n",
        "plt.xlabel(\"Amostras\")\n",
        "plt.ylabel(\"Amplitude\")\n",
        "plt.grid(True)\n",
        "plt.show()"
      ],
      "metadata": {
        "id": "Wn0LzVAw9ulQ"
      },
      "execution_count": null,
      "outputs": []
    },
    {
      "cell_type": "markdown",
      "source": [
        "## 🔬 **Exercício: Processamento de Sinais Biomédicos com Dados Reais**\n",
        "\n",
        "### 🎯 Objetivo\n",
        "\n",
        "Explorar um sinal biomédico real da plataforma [PhysioNet](https://physionet.org/), compreender o estudo de origem, adicionar ruídos artificiais e aplicar os filtros estudados para observar seus efeitos.\n",
        "\n",
        "\n",
        "\n",
        "### 📝 **Tarefas**\n",
        "\n",
        "1. **Escolha do Banco de Dados**\n",
        "\n",
        "   * Acesse o site [PhysioNet](https://physionet.org/).\n",
        "   * Explore os bancos de dados disponíveis.\n",
        "   * Escolha **um banco com sinais fisiológicos**, como ECG, EEG ou pressão arterial etc.\n",
        "   * Leia a **descrição do estudo** (clique no título do projeto e depois em “About this database” ou “Description”).\n",
        "\n",
        "2. **Justifique sua escolha**\n",
        "\n",
        "   * Faça um **resumo breve (3–5 linhas)** explicando:\n",
        "\n",
        "     * Qual banco escolheu\n",
        "     * Qual sinal será analisado\n",
        "     * O que esse estudo investiga\n",
        "\n",
        "3. **Baixe e carregue o sinal**\n",
        "\n",
        "   * Use a biblioteca `wfdb` para baixar e carregar um ou mais registros do banco escolhido.\n",
        "   * Exiba o sinal original (sem ruído) em um gráfico.\n",
        "\n",
        "4. **Adicione ruídos artificiais**\n",
        "\n",
        "   * Adicione **pelo menos dois** dos seguintes ruídos (você pode usar os exemplos dados em aula):\n",
        "\n",
        "     * Ruído Gaussiano (ex: `np.random.normal`)\n",
        "     * Ruído Térmico\n",
        "     * Ruído Wander (linha de base)\n",
        "     * Ruído em forma de pulso (spikes)\n",
        "     * Ruído de linha (ex: 50/60 Hz senoidal)\n",
        "   * Exiba o sinal com ruído.\n",
        "\n",
        "5. **Aplique os filtros**\n",
        "\n",
        "   * Aplique os **três filtros** ensinados:\n",
        "\n",
        "     * Média Móvel\n",
        "     * Média Gaussiana\n",
        "     * Mediana\n",
        "   * Mostre os resultados em gráficos separados\n",
        "\n",
        "6. **Compare os resultados**\n",
        "\n",
        "   * Comente brevemente:\n",
        "\n",
        "     * Quais filtros funcionaram melhor para o seu tipo de ruído?\n",
        "     * Algum filtro distorceu muito o sinal?\n",
        "     * Qual você usaria se fosse um sinal clínico real?\n",
        "\n",
        "---\n",
        "\n",
        "### 📊 **Exibição Gráfica**\n",
        "\n",
        "Sugestão de layout com `matplotlib`:\n",
        "\n",
        "```plaintext\n",
        "Gráfico 1: Sinal original  \n",
        "Gráfico 2: Sinal com ruído  \n",
        "Gráfico 3: Filtro da Média Móvel  \n",
        "Gráfico 4: Filtro da Média Gaussiana  \n",
        "Gráfico 5: Filtro da Mediana\n",
        "```\n",
        "\n",
        "\n",
        "### 💡 Dicas Técnicas\n",
        "\n",
        "* Use `wfdb.rdrecord()` para carregar o sinal\n",
        "* Use `record.p_signal[:, canal]` para extrair os dados\n",
        "* Escolha apenas um trecho do sinal (ex: 1000 amostras) se ele for muito longo\n",
        "\n",
        "\n",
        "\n",
        "### ✅ **Entrega esperada**\n",
        "\n",
        "* Códigos no Colab (comentados)\n",
        "* Gráficos gerados\n",
        "* Comentários sobre o sinal, filtros e análise\n",
        "\n",
        "\n"
      ],
      "metadata": {
        "id": "w4dCBlUa9ISo"
      }
    }
  ]
}